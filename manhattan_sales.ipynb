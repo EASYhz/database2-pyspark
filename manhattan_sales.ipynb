{
 "cells": [
  {
   "cell_type": "markdown",
   "source": [
    "# Connect HBASE"
   ],
   "metadata": {
    "collapsed": false
   }
  },
  {
   "cell_type": "code",
   "execution_count": 109,
   "outputs": [
    {
     "name": "stdout",
     "output_type": "stream",
     "text": [
      "+-----------------+----------------+----------------+\n",
      "|SALES:TOTAL UNITS|SALES:SALE PRICE|SALES:YEAR BUILT|\n",
      "+-----------------+----------------+----------------+\n",
      "|1.0              |399000.0        |1900            |\n",
      "|10.0             |5650000.0       |1910            |\n",
      "|0.0              |202500.0        |1900            |\n",
      "|1.0              |120000.0        |2008            |\n",
      "|1.0              |0.0             |1989            |\n",
      "|1.0              |0.0             |1989            |\n",
      "|1.0              |760000.0        |1989            |\n",
      "|1.0              |1275000.0       |1989            |\n",
      "|1.0              |580000.0        |1989            |\n",
      "|1.0              |780000.0        |1989            |\n",
      "|1.0              |1365000.0       |1989            |\n",
      "|1.0              |805000.0        |1989            |\n",
      "|1.0              |790000.0        |1989            |\n",
      "|1.0              |895000.0        |1989            |\n",
      "|1.0              |968000.0        |2011            |\n",
      "|1.0              |900000.0        |1989            |\n",
      "|1.0              |986000.0        |1989            |\n",
      "|1.0              |0.0             |1989            |\n",
      "|1.0              |0.0             |1989            |\n",
      "|1.0              |0.0             |1989            |\n",
      "+-----------------+----------------+----------------+\n",
      "only showing top 20 rows\n",
      "\n"
     ]
    }
   ],
   "source": [
    "import happybase\n",
    "from pyspark.sql import SparkSession\n",
    "from pyspark.sql.types import IntegerType, StructType, StructField, DoubleType\n",
    "\n",
    "# HBase 연결 설정\n",
    "connection = happybase.Connection('localhost', port=9090)\n",
    "# 테이블 선택\n",
    "table_name = 'NYC_MANHATTAN_SALES'\n",
    "# 테이블 연결\n",
    "table = connection.table(table_name)\n",
    "uses = [\"TOTAL UNITS\", \"YEAR BUILT\", \"SALE PRICE\"]\n",
    "# 사용할 컬럼 정리\n",
    "schema = StructType([\n",
    "    StructField(\"SALES:TOTAL UNITS\", DoubleType(), True),\n",
    "    StructField(\"SALES:SALE PRICE\", DoubleType(), True),\n",
    "    StructField(\"SALES:YEAR BUILT\", IntegerType(), True),\n",
    "])\n",
    "\n",
    "# 데이터 스캔 및 Spark DataFrame 생성\n",
    "rows = []\n",
    "for key, data in table.scan():\n",
    "    row = {'RowKey': key.decode('utf-8')}\n",
    "    for column, value in data.items():\n",
    "        if \"SALES\" in column.decode('utf-8'):\n",
    "            column_name = f\"{column.decode('utf-8')}\"\n",
    "            if uses[1] in column_name:\n",
    "                row[column_name] = int(value.decode('utf-8').split('.')[0])\n",
    "            else: row[column_name] = float(value.decode('utf-8'))\n",
    "    rows.append(row)\n",
    "\n",
    "# SparkSession 초기화\n",
    "spark = SparkSession.builder.appName(table_name).getOrCreate()\n",
    "\n",
    "# Spark DataFrame 생성\n",
    "df = spark.createDataFrame(rows, schema)\n",
    "df.show(truncate=False)"
   ],
   "metadata": {
    "collapsed": false
   }
  },
  {
   "cell_type": "code",
   "execution_count": 110,
   "outputs": [
    {
     "name": "stdout",
     "output_type": "stream",
     "text": [
      "root\n",
      " |-- SALES:TOTAL UNITS: double (nullable = true)\n",
      " |-- SALES:SALE PRICE: double (nullable = true)\n",
      " |-- SALES:YEAR BUILT: integer (nullable = true)\n",
      "\n"
     ]
    }
   ],
   "source": [
    "df.printSchema()"
   ],
   "metadata": {
    "collapsed": false
   }
  },
  {
   "cell_type": "markdown",
   "source": [
    "# SELECT DATAFRAME COLUMNS"
   ],
   "metadata": {
    "collapsed": false
   }
  },
  {
   "cell_type": "code",
   "execution_count": 141,
   "outputs": [],
   "source": [
    "from pyspark.sql.types import IntegerType\n",
    "import pyspark.sql.functions as F\n",
    "\n",
    "df = df.withColumn(\n",
    "    \"SALES:SALE PRICE\", F.regexp_replace(\"SALES:SALE PRICE\", \"[$,]\", \"\").cast(IntegerType())\n",
    ")\n",
    "\n",
    "selected_df = df.select(\n",
    "    F.col(\"SALES:SALE PRICE\").alias(\"SALES\"),\n",
    "    F.col(\"SALES:TOTAL UNITS\").alias(\"UNITS\"),\n",
    "    F.col(\"SALES:YEAR BUILT\").alias(\"YEAR\"),\n",
    ").where(\n",
    "    '`SALES:SALE PRICE` > 0 and `SALES:TOTAL UNITS` > 0 and `SALES:YEAR BUILT` > 0'\n",
    ")"
   ],
   "metadata": {
    "collapsed": false
   }
  },
  {
   "cell_type": "code",
   "execution_count": 142,
   "outputs": [
    {
     "data": {
      "text/plain": "DataFrame[SALES: int, UNITS: double, YEAR: int]"
     },
     "metadata": {},
     "output_type": "display_data"
    }
   ],
   "source": [
    "display(selected_df)"
   ],
   "metadata": {
    "collapsed": false
   }
  },
  {
   "cell_type": "markdown",
   "source": [
    "# Create Year Range and Avg Price"
   ],
   "metadata": {
    "collapsed": false
   }
  },
  {
   "cell_type": "code",
   "execution_count": 145,
   "outputs": [
    {
     "data": {
      "text/plain": "<Figure size 800x600 with 1 Axes>",
      "image/png": "[encoded data removed]"
     },
     "metadata": {},
     "output_type": "display_data"
    }
   ],
   "source": [
    "from pyspark.sql.functions import expr\n",
    "from matplotlib import pyplot as plt\n",
    "\n",
    "# 연도 범위 생성\n",
    "sDf = selected_df.withColumn(\"YEAR_RANGE\", expr(\"CAST((YEAR DIV 10) * 10 AS INT)\"))  # 10년 단위로 범주화 예시\n",
    "\n",
    "# 연도 범위에 따른 판매 가격 평균 계산\n",
    "grouped_df = sDf.groupBy(\"YEAR_RANGE\").agg(F.avg(\"SALES\").alias(\"AVG_PRICE\"))\n",
    "\n",
    "# Pandas DataFrame 으로 변환\n",
    "pandas_df = grouped_df.toPandas()\n",
    "\n",
    "# 그래프 그리기\n",
    "plt.figure(figsize=(8, 6))\n",
    "plt.bar(pandas_df[\"YEAR_RANGE\"], pandas_df[\"AVG_PRICE\"])\n",
    "plt.title(\"Yearly Average Price\")\n",
    "plt.xlabel(\"Year Range\")\n",
    "plt.ylabel(\"Average Sale Price\")\n",
    "plt.show()\n"
   ],
   "metadata": {
    "collapsed": false
   }
  },
  {
   "cell_type": "markdown",
   "source": [
    "# Pearson Correlation Coefficient"
   ],
   "metadata": {
    "collapsed": false
   }
  },
  {
   "cell_type": "code",
   "execution_count": 148,
   "outputs": [
    {
     "name": "stdout",
     "output_type": "stream",
     "text": [
      "-0.10865602342684672\n"
     ]
    }
   ],
   "source": [
    "correlation = selected_df.corr(\"SALES\", \"YEAR\")\n",
    "print(correlation)"
   ],
   "metadata": {
    "collapsed": false
   }
  },
  {
   "cell_type": "markdown",
   "source": [
    "# Shut down the connection"
   ],
   "metadata": {
    "collapsed": false
   }
  },
  {
   "cell_type": "code",
   "execution_count": 149,
   "outputs": [],
   "source": [
    "# SparkSession 종료\n",
    "spark.stop()\n",
    "\n",
    "# HBase 연결 닫기\n",
    "connection.close()"
   ],
   "metadata": {
    "collapsed": false
   }
  },
  {
   "cell_type": "code",
   "execution_count": null,
   "outputs": [],
   "source": [],
   "metadata": {
    "collapsed": false
   }
  }
 ],
 "metadata": {
  "kernelspec": {
   "display_name": "Python 3",
   "language": "python",
   "name": "python3"
  },
  "language_info": {
   "codemirror_mode": {
    "name": "ipython",
    "version": 2
   },
   "file_extension": ".py",
   "mimetype": "text/x-python",
   "name": "python",
   "nbconvert_exporter": "python",
   "pygments_lexer": "ipython2",
   "version": "2.7.6"
  }
 },
 "nbformat": 4,
 "nbformat_minor": 0
}
